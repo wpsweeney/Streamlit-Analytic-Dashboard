{
 "cells": [
  {
   "cell_type": "code",
<<<<<<< Updated upstream
   "execution_count": null,
=======
   "execution_count": 2,
>>>>>>> Stashed changes
   "metadata": {},
   "outputs": [],
   "source": [
    "import pandas as pd\n",
    "import seaborn as sns\n",
    "import matplotlib.pyplot as plt\n",
    "import statsmodels.api as sm\n",
    "import seaborn as sns"
   ]
  },
  {
   "cell_type": "code",
   "execution_count": 117,
   "metadata": {},
   "outputs": [
    {
     "name": "stdout",
     "output_type": "stream",
     "text": [
      "Index(['age', 'Medu', 'Fedu', 'Mjob', 'Fjob', 'traveltime', 'studytime',\n",
      "       'failures', 'schoolsup', 'famsup', 'paid', 'activities', 'nursery',\n",
      "       'higher', 'internet', 'romantic', 'famrel', 'freetime', 'goout', 'Dalc',\n",
      "       'Walc', 'health', 'absences', 'G3'],\n",
      "      dtype='object')\n"
     ]
    }
   ],
   "source": [
    "\"\"\"\n",
    "df_mat = pd.read_csv(\"student-mat.csv\")\n",
    "df_por = pd.read_csv(\"student-por.csv\")\n",
    "\n",
    "df_mat.reset_index(inplace=True)\n",
    "df_por.reset_index(inplace=True)\n",
    "\n",
    "#df = pd.merge(df_por, df_mat, on=\"index\", how=\"left\")\n",
    "df = pd.concat([df_mat, df_por], axis=1)\n",
    "df.drop(columns=[\"index\"], inplace=True)\n",
    "print(df.columns)\n",
    "\"\"\"\n",
    "\n",
    "df = pd.read_csv(\"student-por.csv\")\n",
    "df.drop(columns=[\"reason\", \"guardian\", \"famsize\", \"address\", \"sex\", \"school\", \"Pstatus\", \"G1\", \"G2\"], inplace=True)\n",
    "df.replace({\"yes\":1, \"no\":0}, inplace=True)\n",
    "print(df.columns)"
   ]
  },
  {
   "cell_type": "code",
   "execution_count": 118,
   "metadata": {},
   "outputs": [
    {
     "name": "stdout",
     "output_type": "stream",
     "text": [
      "                            OLS Regression Results                            \n",
      "==============================================================================\n",
      "Dep. Variable:                     G3   R-squared:                       0.318\n",
      "Model:                            OLS   Adj. R-squared:                  0.286\n",
      "Method:                 Least Squares   F-statistic:                     9.955\n",
      "Date:                Tue, 03 Dec 2024   Prob (F-statistic):           1.85e-35\n",
      "Time:                        15:44:56   Log-Likelihood:                -1557.2\n",
      "No. Observations:                 649   AIC:                             3174.\n",
      "Df Residuals:                     619   BIC:                             3309.\n",
      "Df Model:                          29                                         \n",
      "Covariance Type:            nonrobust                                         \n",
      "=================================================================================\n",
      "                    coef    std err          t      P>|t|      [0.025      0.975]\n",
      "---------------------------------------------------------------------------------\n",
      "const             5.6527      1.364      4.144      0.000       2.974       8.331\n",
      "age               0.1808      0.100      1.799      0.073      -0.017       0.378\n",
      "Medu              0.0230      0.153      0.150      0.881      -0.278       0.324\n",
      "Fedu              0.2169      0.139      1.557      0.120      -0.057       0.491\n",
      "traveltime       -0.1400      0.153     -0.913      0.362      -0.441       0.161\n",
      "studytime         0.5687      0.140      4.071      0.000       0.294       0.843\n",
      "failures         -1.4940      0.205     -7.275      0.000      -1.897      -1.091\n",
      "schoolsup        -1.0222      0.367     -2.789      0.005      -1.742      -0.302\n",
      "famsup            0.0841      0.230      0.366      0.715      -0.367       0.536\n",
      "paid             -0.6295      0.466     -1.351      0.177      -1.544       0.285\n",
      "activities        0.2801      0.223      1.259      0.209      -0.157       0.717\n",
      "nursery          -0.2202      0.275     -0.800      0.424      -0.761       0.320\n",
      "higher            1.8252      0.389      4.689      0.000       1.061       2.590\n",
      "internet          0.5106      0.278      1.839      0.066      -0.035       1.056\n",
      "romantic         -0.4853      0.231     -2.102      0.036      -0.939      -0.032\n",
      "famrel            0.1433      0.118      1.218      0.224      -0.088       0.374\n",
      "freetime         -0.1836      0.114     -1.611      0.108      -0.407       0.040\n",
      "goout            -0.0753      0.109     -0.694      0.488      -0.288       0.138\n",
      "Dalc             -0.2831      0.153     -1.856      0.064      -0.583       0.016\n",
      "Walc             -0.1023      0.118     -0.865      0.387      -0.334       0.130\n",
      "health           -0.1958      0.078     -2.519      0.012      -0.349      -0.043\n",
      "absences         -0.0085      0.025     -0.346      0.729      -0.057       0.040\n",
      "Mjob_at_home      0.6697      0.374      1.789      0.074      -0.066       1.405\n",
      "Mjob_health       1.7737      0.449      3.952      0.000       0.892       2.655\n",
      "Mjob_other        0.7823      0.330      2.372      0.018       0.135       1.430\n",
      "Mjob_services     1.2121      0.360      3.370      0.001       0.506       1.919\n",
      "Mjob_teacher      1.2149      0.448      2.714      0.007       0.336       2.094\n",
      "Fjob_at_home      1.1818      0.481      2.459      0.014       0.238       2.126\n",
      "Fjob_health       0.7016      0.578      1.215      0.225      -0.433       1.836\n",
      "Fjob_other        1.2406      0.352      3.523      0.000       0.549       1.932\n",
      "Fjob_services     0.6279      0.358      1.754      0.080      -0.075       1.331\n",
      "Fjob_teacher      1.9009      0.515      3.688      0.000       0.889       2.913\n",
      "==============================================================================\n",
      "Omnibus:                      159.885   Durbin-Watson:                   1.897\n",
      "Prob(Omnibus):                  0.000   Jarque-Bera (JB):              599.205\n",
      "Skew:                          -1.105   Prob(JB):                    7.66e-131\n",
      "Kurtosis:                       7.157   Cond. No.                     5.38e+16\n",
      "==============================================================================\n",
      "\n",
      "Notes:\n",
      "[1] Standard Errors assume that the covariance matrix of the errors is correctly specified.\n",
      "[2] The smallest eigenvalue is 8.41e-29. This might indicate that there are\n",
      "strong multicollinearity problems or that the design matrix is singular.\n"
     ]
    }
   ],
   "source": [
    "#Final Grade\n",
    "X = df.drop(columns=[\"G3\"])\n",
    "X = pd.get_dummies(X, columns=[\"Mjob\", \"Fjob\"])\n",
    "Y = df[\"G3\"]\n",
    "X = sm.add_constant(X)\n",
    "reg = sm.OLS(Y, X).fit()\n",
    "\n",
    "print(reg.summary())"
   ]
  },
  {
   "cell_type": "code",
   "execution_count": 8,
   "metadata": {},
   "outputs": [],
   "source": [
    "data_path = 'student-mat.csv'\n",
    "drinking = pd.read_csv(data_path)"
   ]
  },
  {
   "cell_type": "code",
   "execution_count": 4,
   "metadata": {},
   "outputs": [
    {
     "name": "stdout",
     "output_type": "stream",
     "text": [
      "                            OLS Regression Results                            \n",
      "==============================================================================\n",
      "Dep. Variable:                     G3   R-squared:                       0.259\n",
      "Model:                            OLS   Adj. R-squared:                  0.196\n",
      "Method:                 Least Squares   F-statistic:                     4.092\n",
      "Date:                Wed, 04 Dec 2024   Prob (F-statistic):           2.93e-11\n",
      "Time:                        10:33:35   Log-Likelihood:                -1102.0\n",
      "No. Observations:                 395   AIC:                             2268.\n",
      "Df Residuals:                     363   BIC:                             2395.\n",
      "Df Model:                          31                                         \n",
      "Covariance Type:            nonrobust                                         \n",
      "===================================================================================\n",
      "                      coef    std err          t      P>|t|      [0.025      0.975]\n",
      "-----------------------------------------------------------------------------------\n",
      "const               9.8029      2.080      4.712      0.000       5.712      13.894\n",
      "Medu                0.5215      0.321      1.625      0.105      -0.110       1.153\n",
      "Fedu               -0.1038      0.274     -0.379      0.705      -0.643       0.435\n",
      "traveltime         -0.2807      0.316     -0.889      0.375      -0.902       0.340\n",
      "studytime           0.5073      0.280      1.810      0.071      -0.044       1.059\n",
      "failures           -1.9238      0.322     -5.974      0.000      -2.557      -1.291\n",
      "famrel              0.1826      0.244      0.748      0.455      -0.297       0.662\n",
      "freetime            0.3446      0.234      1.472      0.142      -0.116       0.805\n",
      "goout              -0.6466      0.220     -2.940      0.003      -1.079      -0.214\n",
      "Dalc               -0.2736      0.326     -0.839      0.402      -0.915       0.367\n",
      "Walc                0.2476      0.246      1.005      0.316      -0.237       0.732\n",
      "health             -0.1886      0.158     -1.193      0.234      -0.500       0.122\n",
      "absences            0.0442      0.028      1.585      0.114      -0.011       0.099\n",
      "sex_M               1.1121      0.491      2.266      0.024       0.147       2.077\n",
      "famsize_LE3         0.7297      0.481      1.516      0.130      -0.217       1.676\n",
      "Pstatus_T          -0.4111      0.720     -0.571      0.568      -1.827       1.005\n",
      "Mjob_health         1.3194      1.103      1.197      0.232      -0.849       3.488\n",
      "Mjob_other         -0.1695      0.699     -0.242      0.809      -1.545       1.206\n",
      "Mjob_services       0.8452      0.788      1.072      0.284      -0.705       2.395\n",
      "Mjob_teacher       -1.2123      1.031     -1.176      0.240      -3.239       0.815\n",
      "Fjob_health         0.8471      1.409      0.601      0.548      -1.924       3.618\n",
      "Fjob_other         -0.4393      1.010     -0.435      0.664      -2.426       1.548\n",
      "Fjob_services      -0.2667      1.045     -0.255      0.799      -2.322       1.789\n",
      "Fjob_teacher        1.5249      1.278      1.193      0.234      -0.989       4.039\n",
      "guardian_mother    -0.0218      0.541     -0.040      0.968      -1.086       1.042\n",
      "guardian_other      0.3700      0.932      0.397      0.691      -1.462       2.202\n",
      "schoolsup_yes      -1.1076      0.646     -1.714      0.087      -2.378       0.163\n",
      "famsup_yes         -0.8420      0.471     -1.789      0.074      -1.767       0.083\n",
      "paid_yes            0.4589      0.467      0.983      0.326      -0.459       1.377\n",
      "activities_yes     -0.2156      0.434     -0.497      0.620      -1.069       0.638\n",
      "internet_yes        0.6483      0.604      1.073      0.284      -0.540       1.836\n",
      "romantic_yes       -1.2181      0.463     -2.633      0.009      -2.128      -0.308\n",
      "==============================================================================\n",
      "Omnibus:                       37.492   Durbin-Watson:                   2.046\n",
      "Prob(Omnibus):                  0.000   Jarque-Bera (JB):               45.705\n",
      "Skew:                          -0.773   Prob(JB):                     1.19e-10\n",
      "Kurtosis:                       3.622   Cond. No.                         139.\n",
      "==============================================================================\n",
      "\n",
      "Notes:\n",
      "[1] Standard Errors assume that the covariance matrix of the errors is correctly specified.\n"
     ]
    }
   ],
   "source": [
    "X = drinking[['Medu', 'Fedu', 'traveltime', 'studytime','failures','famrel','freetime','goout','Dalc','Walc','health','absences','sex','famsize','Pstatus','Mjob','Fjob','guardian','schoolsup','famsup','paid','activities','internet','romantic']]\n",
    "X = pd.get_dummies(X, columns=['sex','famsize','Pstatus','Mjob','Fjob','guardian','schoolsup','famsup','paid','activities','internet','romantic'],drop_first=True, dtype='float')\n",
    "X = sm.add_constant(X)\n",
    "y = drinking['G3']\n",
    "reg1 = sm.OLS(y, X).fit()\n",
    "\n",
    "# Display regression summary\n",
    "print(reg1.summary())"
   ]
  },
  {
   "cell_type": "code",
   "execution_count": 5,
   "metadata": {},
   "outputs": [],
   "source": [
    "def stepwise_selection(X, y,\n",
    "                       initial_list=[],\n",
    "                       threshold_in=0.01,\n",
    "                       threshold_out = 0.05,\n",
    "                       verbose=True):\n",
    "    \"\"\" Perform a forward-backward feature selection\n",
    "    based on p-value from statsmodels.api.OLS\n",
    "\n",
    "    Arguments:\n",
    "        X - pandas.DataFrame of numeric features\n",
    "        y - vector, series of the target\n",
    "        initial_list - list of features to start with (column names of X)\n",
    "        threshold_in - include a feature if its p-value < threshold_in\n",
    "        threshold_out - exclude a feature if its p-value > threshold_out\n",
    "        verbose - whether to print the sequence of inclusions and exclusions\n",
    "\n",
    "    Returns: list of selected features\n",
    "\n",
    "    Example Call: stepwise_selection(X, y)\n",
    "    \"\"\"\n",
    "    included = list(initial_list)\n",
    "    while True:\n",
    "        changed=False\n",
    "        # forward step\n",
    "        excluded = list(set(X.columns)-set(included))\n",
    "        new_pval = pd.Series(index=excluded)\n",
    "        for new_column in excluded:\n",
    "            model = sm.OLS(y, sm.add_constant(pd.DataFrame(X[included+[new_column]]))).fit()\n",
    "            new_pval[new_column] = model.pvalues[new_column]\n",
    "        best_pval = new_pval.min()\n",
    "        if best_pval < threshold_in:\n",
    "            best_feature = new_pval.idxmin()\n",
    "            included.append(best_feature)\n",
    "            changed=True\n",
    "            if verbose:\n",
    "                print(f'Add  {best_feature} with p-value {best_pval:.4f}')\n",
    "        # backward step\n",
    "        model = sm.OLS(y, sm.add_constant(pd.DataFrame(X[included]))).fit()\n",
    "        # use all coefs except intercept\n",
    "        pvalues = model.pvalues.iloc[1:]\n",
    "        worst_pval = pvalues.max() # null if pvalues is empty\n",
    "        if worst_pval > threshold_out:\n",
    "            changed=True\n",
    "            worst_feature = pvalues.idxmax()\n",
    "            included.remove(worst_feature)\n",
    "            if verbose:\n",
    "                print(f'Drop {worst_feature} with p-value {worst_pval:.4f}')\n",
    "        if not changed:\n",
    "           break\n",
    "    return included"
   ]
  },
  {
   "cell_type": "code",
   "execution_count": 6,
   "metadata": {},
   "outputs": [
    {
     "name": "stdout",
     "output_type": "stream",
     "text": [
      "Add  const with p-value 0.0000\n",
      "Add  failures with p-value 0.0000\n",
      "Add  Medu with p-value 0.0038\n",
      "resulting features:\n",
      "['const', 'failures', 'Medu']\n"
     ]
    }
   ],
   "source": [
    "selected_features  = stepwise_selection(X, y)\n",
    "print('resulting features:')\n",
    "print(selected_features)"
   ]
  },
  {
   "cell_type": "code",
   "execution_count": 7,
   "metadata": {},
   "outputs": [
    {
     "name": "stdout",
     "output_type": "stream",
     "text": [
      "                            OLS Regression Results                            \n",
      "==============================================================================\n",
      "Dep. Variable:                     G3   R-squared:                       0.161\n",
      "Model:                            OLS   Adj. R-squared:                  0.151\n",
      "Method:                 Least Squares   F-statistic:                     14.98\n",
      "Date:                Wed, 04 Dec 2024   Prob (F-statistic):           1.86e-13\n",
      "Time:                        10:34:06   Log-Likelihood:                -1126.4\n",
      "No. Observations:                 395   AIC:                             2265.\n",
      "Df Residuals:                     389   BIC:                             2289.\n",
      "Df Model:                           5                                         \n",
      "Covariance Type:            nonrobust                                         \n",
      "==============================================================================\n",
      "                 coef    std err          t      P>|t|      [0.025      0.975]\n",
      "------------------------------------------------------------------------------\n",
      "const         10.5258      0.841     12.516      0.000       8.872      12.179\n",
      "failures      -1.9373      0.299     -6.470      0.000      -2.526      -1.349\n",
      "Medu           0.6472      0.202      3.204      0.001       0.250       1.044\n",
      "Dalc          -0.1381      0.315     -0.438      0.661      -0.758       0.481\n",
      "Walc           0.2501      0.232      1.080      0.281      -0.205       0.705\n",
      "goout         -0.5182      0.213     -2.438      0.015      -0.936      -0.100\n",
      "==============================================================================\n",
      "Omnibus:                       33.828   Durbin-Watson:                   2.023\n",
      "Prob(Omnibus):                  0.000   Jarque-Bera (JB):               40.121\n",
      "Skew:                          -0.735   Prob(JB):                     1.94e-09\n",
      "Kurtosis:                       3.528   Cond. No.                         21.3\n",
      "==============================================================================\n",
      "\n",
      "Notes:\n",
      "[1] Standard Errors assume that the covariance matrix of the errors is correctly specified.\n"
     ]
    }
   ],
   "source": [
    "X = drinking[['failures', 'Medu', 'Dalc', 'Walc', 'goout']]\n",
    "X = sm.add_constant(X)\n",
    "y = drinking['G3']\n",
    "reg2 = sm.OLS(y, X).fit()\n",
    "\n",
    "# Display regression summary\n",
    "print(reg2.summary())"
   ]
  },
  {
   "cell_type": "code",
   "execution_count": null,
   "metadata": {},
   "outputs": [],
   "source": []
  }
 ],
 "metadata": {
  "kernelspec": {
   "display_name": "base",
   "language": "python",
   "name": "python3"
  },
  "language_info": {
   "codemirror_mode": {
    "name": "ipython",
    "version": 3
   },
   "file_extension": ".py",
   "mimetype": "text/x-python",
   "name": "python",
   "nbconvert_exporter": "python",
   "pygments_lexer": "ipython3",
   "version": "3.12.4"
  }
 },
 "nbformat": 4,
 "nbformat_minor": 2
}
